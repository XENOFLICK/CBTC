{
 "cells": [
  {
   "cell_type": "code",
   "execution_count": 7,
   "id": "5241dfcd-f2f3-4e32-9485-4de4e8766658",
   "metadata": {},
   "outputs": [
    {
     "name": "stdout",
     "output_type": "stream",
     "text": [
      "Requirement already satisfied: wavio in c:\\users\\user\\anaconda3\\lib\\site-packages (0.0.8)\n",
      "Requirement already satisfied: numpy>=1.19.0 in c:\\users\\user\\anaconda3\\lib\\site-packages (from wavio) (1.26.4)\n",
      "Requirement already satisfied: scipy in c:\\users\\user\\anaconda3\\lib\\site-packages (1.11.4)\n",
      "Requirement already satisfied: numpy<1.28.0,>=1.21.6 in c:\\users\\user\\anaconda3\\lib\\site-packages (from scipy) (1.26.4)\n",
      "Collecting sounddevice\n",
      "  Downloading sounddevice-0.4.6-py3-none-win_amd64.whl.metadata (1.4 kB)\n",
      "Requirement already satisfied: CFFI>=1.0 in c:\\users\\user\\anaconda3\\lib\\site-packages (from sounddevice) (1.16.0)\n",
      "Requirement already satisfied: pycparser in c:\\users\\user\\anaconda3\\lib\\site-packages (from CFFI>=1.0->sounddevice) (2.21)\n",
      "Downloading sounddevice-0.4.6-py3-none-win_amd64.whl (199 kB)\n",
      "   ---------------------------------------- 0.0/199.7 kB ? eta -:--:--\n",
      "   -- ------------------------------------- 10.2/199.7 kB ? eta -:--:--\n",
      "   ----- --------------------------------- 30.7/199.7 kB 262.6 kB/s eta 0:00:01\n",
      "   ----------------------- -------------- 122.9/199.7 kB 804.6 kB/s eta 0:00:01\n",
      "   -------------------------------------- - 194.6/199.7 kB 1.1 MB/s eta 0:00:01\n",
      "   -------------------------------------- 199.7/199.7 kB 933.3 kB/s eta 0:00:00\n",
      "Installing collected packages: sounddevice\n",
      "Successfully installed sounddevice-0.4.6\n"
     ]
    }
   ],
   "source": [
    "!pip install wavio\n",
    "!pip install scipy\n",
    "!pip install sounddevice\n",
    "# import required libraries\n",
    "import sounddevice as sd\n",
    "from scipy.io.wavfile import write\n",
    "import wavio as wv\n",
    "# Sampling frequency\n",
    "freq = 44100\n",
    "\n",
    "# Recording duration\n",
    "duration = 5\n",
    "\n",
    "# Start recorder with the given values of \n",
    "# duration and sample frequency\n",
    "recording = sd.rec(int(duration * freq), \n",
    "                   samplerate=freq, channels=2)\n",
    "\n",
    "# Record audio for the given number of seconds\n",
    "sd.wait()\n",
    "\n",
    "write(\"recording0.wav\", freq, recording)\n",
    "\n",
    "# Convert the NumPy array to audio file\n",
    "wv.write(\"recording1.wav\", recording, freq, sampwidth=2)"
   ]
  },
  {
   "cell_type": "code",
   "execution_count": null,
   "id": "45893893-aba7-4916-8c9b-20df9807a9cd",
   "metadata": {},
   "outputs": [],
   "source": []
  }
 ],
 "metadata": {
  "kernelspec": {
   "display_name": "Python 3 (ipykernel)",
   "language": "python",
   "name": "python3"
  },
  "language_info": {
   "codemirror_mode": {
    "name": "ipython",
    "version": 3
   },
   "file_extension": ".py",
   "mimetype": "text/x-python",
   "name": "python",
   "nbconvert_exporter": "python",
   "pygments_lexer": "ipython3",
   "version": "3.11.7"
  }
 },
 "nbformat": 4,
 "nbformat_minor": 5
}
