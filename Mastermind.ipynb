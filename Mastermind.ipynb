{
 "cells": [
  {
   "cell_type": "code",
   "execution_count": 18,
   "id": "fad7f661-5cca-4f4a-824e-477b8291b154",
   "metadata": {},
   "outputs": [
    {
     "name": "stdin",
     "output_type": "stream",
     "text": [
      "Enter any number: 801344\n",
      "Guess the 4 digit number: 432108\n"
     ]
    },
    {
     "name": "stdout",
     "output_type": "stream",
     "text": [
      "None of the numbers in your input match.\n"
     ]
    },
    {
     "name": "stdin",
     "output_type": "stream",
     "text": [
      "Enter your next choice of numbers:  804332\n"
     ]
    },
    {
     "name": "stdout",
     "output_type": "stream",
     "text": [
      "Not quite the number. But you did get  3  digit(s) correct!\n",
      "Also these numbers in your input were correct.\n",
      "8 0 3 \n",
      "\n",
      "\n",
      "\n"
     ]
    },
    {
     "name": "stdin",
     "output_type": "stream",
     "text": [
      "Enter your next choice of numbers:  801344\n"
     ]
    },
    {
     "name": "stdout",
     "output_type": "stream",
     "text": [
      "You've become a Mastermind!\n",
      "It took you only 3 tries.\n"
     ]
    }
   ],
   "source": [
    "# the .randrange() function generates\n",
    "# a random number within the specified range.\n",
    "num = int(input(\"Enter any number:\"))\n",
    "\n",
    "n = int(input(\"Guess the 4 digit number:\"))\n",
    "\n",
    "# condition to test equality of the\n",
    "# guess made. Program terminates if true.\n",
    "if(n == num):\n",
    "\tprint(\"Great! You guessed the number in just 1 try! You're a Mastermind!\")\n",
    "else:\n",
    "\t# ctr variable initialized. It will keep count of\n",
    "\t# the number of tries the Player takes to guess the number.\n",
    "\tctr = 0\n",
    "\n",
    "\t# while loop repeats as long as the Player\n",
    "\t# fails to guess the number correctly.\n",
    "\twhile(n != num):\n",
    "\t\t# variable increments every time the loop\n",
    "\t\t# is executed, giving an idea of how many\n",
    "\t\t# guesses were made.\n",
    "\t\tctr += 1\n",
    "\n",
    "\t\tcount = 0\n",
    "\n",
    "\t\t# explicit type conversion of an integer to\n",
    "\t\t# a string in order to ease extraction of digits\n",
    "\t\tn = str(n)\n",
    "\n",
    "\t\t# explicit type conversion of a string to an integer\n",
    "\t\tnum = str(num)\n",
    "\n",
    "\t\t# correct[] list stores digits which are correct\n",
    "\t\tcorrect = []\n",
    "\n",
    "\t\t# for loop runs 4 times since the number has 4 digits.\n",
    "\t\tfor i in range(0, 4):\n",
    "\t\t\t# checking for equality of digits\n",
    "\t\t\tif(n[i] == num[i]):\n",
    "\t\t\t\t# number of digits guessed correctly increments\n",
    "\t\t\t\tcount += 1\n",
    "\t\t\t\t# hence, the digit is stored in correct[].\n",
    "\t\t\t\tcorrect.append(n[i])\n",
    "\t\t\telse:\n",
    "\t\t\t\tcontinue\n",
    "\n",
    "\t\t# when not all the digits are guessed correctly.\n",
    "\t\tif (count < 4) and (count != 0):\n",
    "\t\t\tprint(\"Not quite the number. But you did get \",\n",
    "\t\t\t\tcount, \" digit(s) correct!\")\n",
    "\t\t\tprint(\"Also these numbers in your input were correct.\")\n",
    "\n",
    "\t\t\tfor k in correct:\n",
    "\t\t\t\tprint(k, end=' ')\n",
    "\n",
    "\t\t\tprint('\\n')\n",
    "\t\t\tprint('\\n')\n",
    "\t\t\tn = int(input(\"Enter your next choice of numbers: \"))\n",
    "\n",
    "\t\t# when none of the digits are guessed correctly.\n",
    "\t\telif(count == 0):\n",
    "\t\t\tprint(\"None of the numbers in your input match.\")\n",
    "\t\t\tn = int(input(\"Enter your next choice of numbers: \"))\n",
    "\n",
    "\tif n == num:\n",
    "\t\tprint(\"You've become a Mastermind!\")\n",
    "\t\tprint(\"It took you only\", ctr, \"tries.\")\n"
   ]
  },
  {
   "cell_type": "code",
   "execution_count": 13,
   "id": "6411658d-57cf-4780-89f2-8b3cc635de0b",
   "metadata": {},
   "outputs": [
    {
     "name": "stdin",
     "output_type": "stream",
     "text": [
      "Player1 enter any number: 2341\n",
      "Player2 guess the 4 digit number: 2131\n"
     ]
    },
    {
     "name": "stdout",
     "output_type": "stream",
     "text": [
      "Not quite the number. But you did get  2  digit(s) correct!\n",
      "Also these numbers in your input were correct.\n",
      "2 1 \n",
      "\n",
      "\n",
      "\n"
     ]
    },
    {
     "name": "stdin",
     "output_type": "stream",
     "text": [
      "Enter your next choice of numbers:  2141\n"
     ]
    },
    {
     "name": "stdout",
     "output_type": "stream",
     "text": [
      "Not quite the number. But you did get  3  digit(s) correct!\n",
      "Also these numbers in your input were correct.\n",
      "2 4 1 \n",
      "\n",
      "\n",
      "\n"
     ]
    },
    {
     "name": "stdin",
     "output_type": "stream",
     "text": [
      "Enter your next choice of numbers:  2321\n"
     ]
    },
    {
     "name": "stdout",
     "output_type": "stream",
     "text": [
      "Not quite the number. But you did get  3  digit(s) correct!\n",
      "Also these numbers in your input were correct.\n",
      "2 3 1 \n",
      "\n",
      "\n",
      "\n"
     ]
    },
    {
     "name": "stdin",
     "output_type": "stream",
     "text": [
      "Enter your next choice of numbers:  2351\n"
     ]
    },
    {
     "name": "stdout",
     "output_type": "stream",
     "text": [
      "Not quite the number. But you did get  3  digit(s) correct!\n",
      "Also these numbers in your input were correct.\n",
      "2 3 1 \n",
      "\n",
      "\n",
      "\n"
     ]
    },
    {
     "name": "stdin",
     "output_type": "stream",
     "text": [
      "Enter your next choice of numbers:  2345\n"
     ]
    },
    {
     "name": "stdout",
     "output_type": "stream",
     "text": [
      "Not quite the number. But you did get  3  digit(s) correct!\n",
      "Also these numbers in your input were correct.\n",
      "2 3 4 \n",
      "\n",
      "\n",
      "\n"
     ]
    },
    {
     "name": "stdin",
     "output_type": "stream",
     "text": [
      "Enter your next choice of numbers:  2341\n"
     ]
    },
    {
     "name": "stdout",
     "output_type": "stream",
     "text": [
      "Player2 you've become a Mastermind!\n",
      "It took you only 6 tries.\n"
     ]
    },
    {
     "name": "stdin",
     "output_type": "stream",
     "text": [
      "Player2 enter any number: 1243\n",
      "Player1 guess the 4 digit number: 1254\n"
     ]
    },
    {
     "name": "stdout",
     "output_type": "stream",
     "text": [
      "Not quite the number. But you did get  2  digit(s) correct!\n",
      "Also these numbers in your input were correct.\n",
      "1 2 \n",
      "\n",
      "\n",
      "\n"
     ]
    },
    {
     "name": "stdin",
     "output_type": "stream",
     "text": [
      "Enter your next choice of numbers:  1234\n"
     ]
    },
    {
     "name": "stdout",
     "output_type": "stream",
     "text": [
      "Not quite the number. But you did get  2  digit(s) correct!\n",
      "Also these numbers in your input were correct.\n",
      "1 2 \n",
      "\n",
      "\n",
      "\n"
     ]
    },
    {
     "name": "stdin",
     "output_type": "stream",
     "text": [
      "Enter your next choice of numbers:  1243\n"
     ]
    },
    {
     "name": "stdout",
     "output_type": "stream",
     "text": [
      "Player1 you've become a Mastermind!\n",
      "It took you only 3 tries.\n",
      "Player1 you've become a Mastermind!\n"
     ]
    }
   ],
   "source": [
    "# the .randrange() function generates\n",
    "# a random number within the specified range.\n",
    "num = int(input(\"Player1 enter any number:\"))\n",
    "\n",
    "n = int(input(\"Player2 guess the 4 digit number:\"))\n",
    "\n",
    "# condition to test equality of the\n",
    "# guess made. Program terminates if true.\n",
    "if(n == num):\n",
    "\tprint(\"Great! You guessed the number in just 1 try! Player2 You're a Mastermind!\")\n",
    "else:\n",
    "\t# ctr variable initialized. It will keep count of\n",
    "\t# the number of tries the Player takes to guess the number.\n",
    "\tctr = 0\n",
    "\n",
    "\t# while loop repeats as long as the Player\n",
    "\t# fails to guess the number correctly.\n",
    "\twhile(n != num):\n",
    "\t\t# variable increments every time the loop\n",
    "\t\t# is executed, giving an idea of how many\n",
    "\t\t# guesses were made.\n",
    "\t\tctr += 1\n",
    "\n",
    "\t\tcount = 0\n",
    "\n",
    "\t\t# explicit type conversion of an integer to\n",
    "\t\t# a string in order to ease extraction of digits\n",
    "\t\tn = str(n)\n",
    "\n",
    "\t\t# explicit type conversion of a string to an integer\n",
    "\t\tnum = str(num)\n",
    "\n",
    "\t\t# correct[] list stores digits which are correct\n",
    "\t\tcorrect = []\n",
    "\n",
    "\t\t# for loop runs 4 times since the number has 4 digits.\n",
    "\t\tfor i in range(0, 4):\n",
    "\t\t\t# checking for equality of digits\n",
    "\t\t\tif(n[i] == num[i]):\n",
    "\t\t\t\t# number of digits guessed correctly increments\n",
    "\t\t\t\tcount += 1\n",
    "\t\t\t\t# hence, the digit is stored in correct[].\n",
    "\t\t\t\tcorrect.append(n[i])\n",
    "\t\t\telse:\n",
    "\t\t\t\tcontinue\n",
    "\n",
    "\t\t# when not all the digits are guessed correctly.\n",
    "\t\tif (count < 4) and (count != 0):\n",
    "\t\t\tprint(\"Not quite the number. But you did get \",\n",
    "\t\t\t\tcount, \" digit(s) correct!\")\n",
    "\t\t\tprint(\"Also these numbers in your input were correct.\")\n",
    "\n",
    "\t\t\tfor k in correct:\n",
    "\t\t\t\tprint(k, end=' ')\n",
    "\n",
    "\t\t\tprint('\\n')\n",
    "\t\t\tprint('\\n')\n",
    "\t\t\tn = int(input(\"Enter your next choice of numbers: \"))\n",
    "\n",
    "\t\t# when none of the digits are guessed correctly.\n",
    "\t\telif(count == 0):\n",
    "\t\t\tprint(\"None of the numbers in your input match.\")\n",
    "\t\t\tn = int(input(\"Enter your next choice of numbers: \"))\n",
    "\n",
    "\tif n == num:\n",
    "\t\tprint(\"Player2 you've become a Mastermind!\")\n",
    "\t\tprint(\"It took you only\", ctr, \"tries.\")\n",
    "\n",
    "num = int(input(\"Player2 enter any number:\"))\n",
    "\n",
    "n = int(input(\"Player1 guess the 4 digit number:\"))\n",
    "\n",
    "# condition to test equality of the\n",
    "# guess made. Program terminates if true.\n",
    "if(n == num):\n",
    "\tprint(\"Great! You guessed the number in just 1 try! Player1 You're a Mastermind!\")\n",
    "else:\n",
    "\t# ctr variable initialized. It will keep count of\n",
    "\t# the number of tries the Player takes to guess the number.\n",
    "\tct = 0\n",
    "\n",
    "\t# while loop repeats as long as the Player\n",
    "\t# fails to guess the number correctly.\n",
    "\twhile(n != num):\n",
    "\t\t# variable increments every time the loop\n",
    "\t\t# is executed, giving an idea of how many\n",
    "\t\t# guesses were made.\n",
    "\t\tct += 1\n",
    "\n",
    "\t\tcount = 0\n",
    "\n",
    "\t\t# explicit type conversion of an integer to\n",
    "\t\t# a string in order to ease extraction of digits\n",
    "\t\tn = str(n)\n",
    "\n",
    "\t\t# explicit type conversion of a string to an integer\n",
    "\t\tnum = str(num)\n",
    "\n",
    "\t\t# correct[] list stores digits which are correct\n",
    "\t\tcorrect = []\n",
    "\n",
    "\t\t# for loop runs 4 times since the number has 4 digits.\n",
    "\t\tfor i in range(0, 4):\n",
    "\t\t\t# checking for equality of digits\n",
    "\t\t\tif(n[i] == num[i]):\n",
    "\t\t\t\t# number of digits guessed correctly increments\n",
    "\t\t\t\tcount += 1\n",
    "\t\t\t\t# hence, the digit is stored in correct[].\n",
    "\t\t\t\tcorrect.append(n[i])\n",
    "\t\t\telse:\n",
    "\t\t\t\tcontinue\n",
    "\n",
    "\t\t# when not all the digits are guessed correctly.\n",
    "\t\tif (count < 4) and (count != 0):\n",
    "\t\t\tprint(\"Not quite the number. But you did get \",\n",
    "\t\t\t\tcount, \" digit(s) correct!\")\n",
    "\t\t\tprint(\"Also these numbers in your input were correct.\")\n",
    "\n",
    "\t\t\tfor k in correct:\n",
    "\t\t\t\tprint(k, end=' ')\n",
    "\n",
    "\t\t\tprint('\\n')\n",
    "\t\t\tprint('\\n')\n",
    "\t\t\tn = int(input(\"Enter your next choice of numbers: \"))\n",
    "\n",
    "\t\t# when none of the digits are guessed correctly.\n",
    "\t\telif(count == 0):\n",
    "\t\t\tprint(\"None of the numbers in your input match.\")\n",
    "\t\t\tn = int(input(\"Enter your next choice of numbers: \"))\n",
    "\n",
    "\tif n == num:\n",
    "\t\tprint(\"Player1 you've become a Mastermind!\")\n",
    "\t\tprint(\"It took you only\", ct, \"tries.\")\n",
    "if ct>ctr:\n",
    "    print(\"Player2 you've become a Mastermind!\")\n",
    "else:\n",
    "    print(\"Player1 you've become a Mastermind!\")\n"
   ]
  },
  {
   "cell_type": "code",
   "execution_count": null,
   "id": "e849a68c-3991-4507-a527-2ca6d8658aa9",
   "metadata": {},
   "outputs": [],
   "source": []
  }
 ],
 "metadata": {
  "kernelspec": {
   "display_name": "Python 3 (ipykernel)",
   "language": "python",
   "name": "python3"
  },
  "language_info": {
   "codemirror_mode": {
    "name": "ipython",
    "version": 3
   },
   "file_extension": ".py",
   "mimetype": "text/x-python",
   "name": "python",
   "nbconvert_exporter": "python",
   "pygments_lexer": "ipython3",
   "version": "3.11.7"
  }
 },
 "nbformat": 4,
 "nbformat_minor": 5
}
