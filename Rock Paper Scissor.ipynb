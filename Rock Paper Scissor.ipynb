{
 "cells": [
  {
   "cell_type": "code",
   "execution_count": 4,
   "id": "9508f067-9ff8-4d50-8a97-3e4382befe4f",
   "metadata": {},
   "outputs": [
    {
     "name": "stdout",
     "output_type": "stream",
     "text": [
      "Winning rules of the game ROCK PAPER SCISSORS are :\n",
      "Rock vs Paper -> Paper wins \n",
      "Rock vs Scissors -> Rock wins \n",
      "Paper vs Scissors -> Scissor wins \n",
      "\n",
      "Enter your choice \n",
      " 1 - Rock \n",
      " 2 - Paper \n",
      " 3 - Scissors \n",
      "\n"
     ]
    },
    {
     "name": "stdin",
     "output_type": "stream",
     "text": [
      "Enter your choice : 1\n"
     ]
    },
    {
     "name": "stdout",
     "output_type": "stream",
     "text": [
      "User choice is \n",
      " Rock\n",
      "Now its Computers Turn....\n",
      "Computer choice is \n",
      " papeR\n",
      "Rock Vs papeR\n",
      "paper wins =><== Computer wins ==>\n",
      "Do you want to play again? (Y/N)\n"
     ]
    },
    {
     "name": "stdin",
     "output_type": "stream",
     "text": [
      " N\n"
     ]
    },
    {
     "name": "stdout",
     "output_type": "stream",
     "text": [
      "thanks for playing\n"
     ]
    }
   ],
   "source": [
    "# import random module\n",
    "import random\n",
    "# print multiline instruction\n",
    "# performstring concatenation of string\n",
    "print('Winning rules of the game ROCK PAPER SCISSORS are :\\n'\n",
    "\t+ \"Rock vs Paper -> Paper wins \\n\"\n",
    "\t+ \"Rock vs Scissors -> Rock wins \\n\"\n",
    "\t+ \"Paper vs Scissors -> Scissor wins \\n\")\n",
    "\n",
    "while True:\n",
    "\t\n",
    "\tprint(\"Enter your choice \\n 1 - Rock \\n 2 - Paper \\n 3 - Scissors \\n\")\n",
    "\t\n",
    "\t# take the input from user\n",
    "\t\n",
    "\tchoice=int(input(\"Enter your choice :\"))\n",
    "\t\n",
    "\t# OR is the short-circuit operator\n",
    "\t# if any one of the condition is true\n",
    "\t# then it return True value\n",
    "\t\n",
    "\t# looping until user enter invalid input\n",
    "\twhile choice > 3 or choice <1:\n",
    "\t     choice=int(input('Enter a valid choice please '))\n",
    "\t\t\n",
    "\t\t# initialize value of choice_name variable\n",
    "\t# corresponding to the choice value\n",
    "\tif choice == 1:\n",
    "\t\tchoice_name= 'Rock'\n",
    "\telif choice == 2:\n",
    "\t\tchoice_name= 'Paper'\n",
    "\telse:\n",
    "\t\tchoice_name= 'Scissors'\n",
    "\t\t\n",
    "\t\t# print user choice\n",
    "\tprint('User choice is \\n',choice_name)\n",
    "\tprint('Now its Computers Turn....')\n",
    "\t\n",
    "\t# Computer chooses randomly any number\n",
    "\t# among 1 , 2 and 3. Using randint method\n",
    "\t# of random module\n",
    "\tcomp_choice = random.randint(1,3)\n",
    "\t\n",
    "\t# looping until comp_choice value\n",
    "\t# is equal to the choice value\n",
    "\twhile comp_choice == choice:\n",
    "\t\tcomp_choice = random.randint(1,3)\n",
    "\t\t\n",
    "\t# initialize value of comp_choice_name\n",
    "\t# variable corresponding to the choice value\n",
    "\tif comp_choice == 1:\n",
    "\t\tcomp_choice_name = 'rocK'\n",
    "\telif comp_choice == 2:\n",
    "\t\tcomp_choice_name = 'papeR'\n",
    "\telse:\n",
    "\t\tcomp_choice_name = 'scissoR'\n",
    "\tprint(\"Computer choice is \\n\", comp_choice_name)\n",
    "\tprint(choice_name,'Vs',comp_choice_name)\n",
    "\t# we need to check of a draw\n",
    "\tif choice == comp_choice:\n",
    "\t\tprint('Its a Draw',end=\"\")\n",
    "\t\tresult=\"DRAW\"\n",
    "\t# condition for winning\t \n",
    "\tif (choice==1 and comp_choice==2):\n",
    "\t\tprint('paper wins =>',end=\"\")\n",
    "\t\tresult='papeR'\n",
    "\telif (choice==2 and comp_choice==1):\n",
    "\t\tprint('paper wins =>',end=\"\")\n",
    "\t\tresult='Paper'\n",
    "\t\t\n",
    "\t\n",
    "\tif (choice==1 and comp_choice==3):\n",
    "\t\tprint('Rock wins =>\\n',end= \"\")\n",
    "\t\tresult='Rock'\n",
    "\telif (choice==3 and comp_choice==1):\n",
    "\t\tprint('Rock wins =>\\n',end= \"\")\n",
    "\t\tresult='rocK'\n",
    "\t\t\n",
    "\tif (choice==2 and comp_choice==3):\n",
    "\t\tprint('Scissors wins =>',end=\"\")\n",
    "\t\tresult='scissoR'\n",
    "\telif (choice==3 and comp_choice==2):\n",
    "\t\tprint('Scissors wins =>',end=\"\")\n",
    "\t\tresult='Rock'\n",
    "\t# Printing either user or computer wins or draw\n",
    "\tif result == 'DRAW':\n",
    "\t\tprint(\"<== Its a tie ==>\")\n",
    "\tif result == choice_name:\n",
    "\t\tprint(\"<== User wins ==>\")\n",
    "\telse:\n",
    "\t\tprint(\"<== Computer wins ==>\")\n",
    "\tprint(\"Do you want to play again? (Y/N)\")\n",
    "\t# if user input n or N then condition is True\n",
    "\tans = input().lower()\n",
    "\tif ans =='n':\n",
    "\t\tbreak\n",
    "# after coming out of the while loop\n",
    "# we print thanks for playing\n",
    "print(\"thanks for playing\")"
   ]
  },
  {
   "cell_type": "code",
   "execution_count": null,
   "id": "829c2346-a0bf-47fd-8ddf-e64d04b16672",
   "metadata": {},
   "outputs": [],
   "source": []
  }
 ],
 "metadata": {
  "kernelspec": {
   "display_name": "Python 3 (ipykernel)",
   "language": "python",
   "name": "python3"
  },
  "language_info": {
   "codemirror_mode": {
    "name": "ipython",
    "version": 3
   },
   "file_extension": ".py",
   "mimetype": "text/x-python",
   "name": "python",
   "nbconvert_exporter": "python",
   "pygments_lexer": "ipython3",
   "version": "3.11.7"
  }
 },
 "nbformat": 4,
 "nbformat_minor": 5
}
