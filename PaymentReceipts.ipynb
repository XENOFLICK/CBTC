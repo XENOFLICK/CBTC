{
 "cells": [
  {
   "cell_type": "code",
   "execution_count": 1,
   "id": "2f56fa24-58d7-4e40-ba82-5f1693a27f1e",
   "metadata": {},
   "outputs": [
    {
     "name": "stdout",
     "output_type": "stream",
     "text": [
      "Collecting reportlab\n",
      "  Downloading reportlab-4.2.0-py3-none-any.whl.metadata (1.4 kB)\n",
      "Requirement already satisfied: pillow>=9.0.0 in c:\\users\\user\\anaconda3\\lib\\site-packages (from reportlab) (10.2.0)\n",
      "Requirement already satisfied: chardet in c:\\users\\user\\anaconda3\\lib\\site-packages (from reportlab) (4.0.0)\n",
      "Downloading reportlab-4.2.0-py3-none-any.whl (1.9 MB)\n",
      "   ---------------------------------------- 0.0/1.9 MB ? eta -:--:--\n",
      "   ---------------------------------------- 0.0/1.9 MB ? eta -:--:--\n",
      "    --------------------------------------- 0.0/1.9 MB 660.6 kB/s eta 0:00:03\n",
      "   - -------------------------------------- 0.1/1.9 MB 751.6 kB/s eta 0:00:03\n",
      "   ---- ----------------------------------- 0.2/1.9 MB 1.4 MB/s eta 0:00:02\n",
      "   ---------- ----------------------------- 0.5/1.9 MB 2.4 MB/s eta 0:00:01\n",
      "   ------------------- -------------------- 0.9/1.9 MB 3.7 MB/s eta 0:00:01\n",
      "   ---------------------------- ----------- 1.4/1.9 MB 4.7 MB/s eta 0:00:01\n",
      "   ---------------------------------------  1.9/1.9 MB 5.6 MB/s eta 0:00:01\n",
      "   ---------------------------------------- 1.9/1.9 MB 5.0 MB/s eta 0:00:00\n",
      "Installing collected packages: reportlab\n",
      "Successfully installed reportlab-4.2.0\n"
     ]
    }
   ],
   "source": [
    "!pip install reportlab"
   ]
  },
  {
   "cell_type": "code",
   "execution_count": 3,
   "id": "84c35a18-26ce-41cc-8adf-34c1a34de9f4",
   "metadata": {},
   "outputs": [],
   "source": [
    "# imports module\n",
    "from reportlab.platypus import SimpleDocTemplate, Table, Paragraph, TableStyle\n",
    "from reportlab.lib import colors\n",
    "from reportlab.lib.pagesizes import A4\n",
    "from reportlab.lib.styles import getSampleStyleSheet\n",
    "\n",
    "DATA = [\n",
    "    [ \"Date\" , \"Name\", \"Subscription\", \"Price (Rs.)\" ],\n",
    "    [\n",
    "        \"16/11/2020\",\n",
    "        \"Full Stack Development  - Live\",\n",
    "        \"Lifetime\",\n",
    "        \"10,99.00/-\",\n",
    "    ],\n",
    "    [ \"16/11/2020\", \"coding Classes: Live Session\", \"6 months\", \"9,999.00/-\"],\n",
    "    [ \"Sub Total\", \"\", \"\", \"208.00/-\"],\n",
    "    [ \"Discount\", \"\", \"\", \"-30.00/-\"],\n",
    "    [ \"Total\", \"\", \"\", \"178.00/-\"],\n",
    "]\n",
    "\n",
    "pdf = SimpleDocTemplate( \"receipt.pdf\" , pagesize = A4 )\n",
    "\n",
    "styles = getSampleStyleSheet()\n",
    "\n",
    "title_style = styles[ \"Heading1\" ]\n",
    "\n",
    "title_style.alignment = 1\n",
    "\n",
    "title = Paragraph( \"Codewithrandom\" , title_style )\n",
    "\n",
    "\n",
    "style = TableStyle(\n",
    "    [\n",
    "        ( \"BOX\" , ( 0, 0 ), ( -1, -1 ), 1 , colors.black ),\n",
    "        ( \"GRID\" , ( 0, 0 ), ( 4 , 4 ), 1 , colors.black ),\n",
    "        ( \"BACKGROUND\" , ( 0, 0 ), ( 3, 0 ), colors.gray ),\n",
    "        ( \"TEXTCOLOR\" , ( 0, 0 ), ( -1, 0 ), colors.whitesmoke ),\n",
    "        ( \"ALIGN\" , ( 0, 0 ), ( -1, -1 ), \"CENTER\" ),\n",
    "        ( \"BACKGROUND\" , ( 0 , 1 ) , ( -1 , -1 ), colors.beige ),\n",
    "    ]\n",
    ")\n",
    "\n",
    "table = Table( DATA , style = style )\n",
    "\n",
    "pdf.build([ title , table ])"
   ]
  },
  {
   "cell_type": "code",
   "execution_count": null,
   "id": "46c3d311-6805-455b-a79d-e8ff00dd2c6d",
   "metadata": {},
   "outputs": [],
   "source": []
  }
 ],
 "metadata": {
  "kernelspec": {
   "display_name": "Python 3 (ipykernel)",
   "language": "python",
   "name": "python3"
  },
  "language_info": {
   "codemirror_mode": {
    "name": "ipython",
    "version": 3
   },
   "file_extension": ".py",
   "mimetype": "text/x-python",
   "name": "python",
   "nbconvert_exporter": "python",
   "pygments_lexer": "ipython3",
   "version": "3.11.7"
  }
 },
 "nbformat": 4,
 "nbformat_minor": 5
}
